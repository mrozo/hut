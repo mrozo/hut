{
 "cells": [
  {
   "cell_type": "code",
   "execution_count": 2,
   "id": "duplicate-tennessee",
   "metadata": {},
   "outputs": [],
   "source": [
    "from classificator import is_due, Transaction\n",
    "import datetime\n",
    "from decimal import Decimal"
   ]
  },
  {
   "cell_type": "code",
   "execution_count": 3,
   "id": "meaningful-commander",
   "metadata": {},
   "outputs": [],
   "source": [
    "data=[\n",
    "    Transaction(date=datetime.datetime(2020, 7, 31, 0, 0), extra_details='/CEN2007310241579', contractor_account_number='61114020170000410203550480', subject='SKŁADKA', contractor_address='DAWID MAREK KUBIĆ UL.NOWINY 60 80-020 GDAŃSK', amount=Decimal('200.00'), currency='PLN', transaction_type='Credit'),\n",
    "Transaction(date=datetime.datetime(2020, 8, 3, 0, 0), extra_details='/CEN2008030412213', contractor_account_number='50124065081111001074674236', subject='Składka Maciej Jakubowski', contractor_address='MACIEJ JAKUBOWSKI UL. JAGIELLOŃSKA4/7 78-100    KOŁOBR', amount=Decimal('100.00'), currency='PLN', transaction_type='Credit'),\n",
    "Transaction(date=datetime.datetime(2020, 8, 3, 0, 0), extra_details='/CEN2008030442214', contractor_account_number='07105017641000009234422336', subject='Składka Alex Yudakov', contractor_address='YUDAKOV ALEXANDER PARTYZANTÓW 12/ 30 80-254 GDAŃSK', amount=Decimal('100.00'), currency='PLN', transaction_type='Credit')\n",
    "]"
   ]
  },
  {
   "cell_type": "code",
   "execution_count": 4,
   "id": "bacterial-district",
   "metadata": {},
   "outputs": [
    {
     "name": "stdout",
     "output_type": "stream",
     "text": [
      "True\n",
      "True\n",
      "True\n"
     ]
    }
   ],
   "source": [
    "for d in data:\n",
    "    print(is_due(d))"
   ]
  },
  {
   "cell_type": "code",
   "execution_count": 14,
   "id": "dietary-league",
   "metadata": {},
   "outputs": [
    {
     "name": "stdout",
     "output_type": "stream",
     "text": [
      "1     |   2021 12 21    |    200 |     1\n"
     ]
    }
   ],
   "source": [
    "s={\n",
    "    \"i\":1,\n",
    "    \"date\":\"2021 12 21\",\n",
    "    \"amount\":200,\n",
    "    \"balance\":1\n",
    "}\n",
    "tpl=r\"\"\"{i:<5} | {date:^15} | {amount:>6} | {balance:>5}\"\"\"\n",
    "print(tpl.format(**s))"
   ]
  },
  {
   "cell_type": "code",
   "execution_count": 21,
   "id": "thick-weekend",
   "metadata": {},
   "outputs": [
    {
     "data": {
      "text/plain": [
       "{'a': 'a', 'b': 'b', 'index': 1}"
      ]
     },
     "execution_count": 21,
     "metadata": {},
     "output_type": "execute_result"
    }
   ],
   "source": [
    "from collections import ChainMap\n",
    "d={'a':'a','b':'b'}\n",
    "dict(**d, index=1)"
   ]
  },
  {
   "cell_type": "code",
   "execution_count": 24,
   "id": "surgical-philosophy",
   "metadata": {},
   "outputs": [
    {
     "data": {
      "text/plain": [
       "[10, 9, 8, 7, 6, 5, 4, 3, 2, 1]"
      ]
     },
     "execution_count": 24,
     "metadata": {},
     "output_type": "execute_result"
    }
   ],
   "source": [
    "list(range(10,0,-1))"
   ]
  },
  {
   "cell_type": "code",
   "execution_count": 25,
   "id": "personal-morning",
   "metadata": {},
   "outputs": [
    {
     "ename": "KeyError",
     "evalue": "'b'",
     "output_type": "error",
     "traceback": [
      "\u001b[0;31m---------------------------------------------------------------------------\u001b[0m",
      "\u001b[0;31mKeyError\u001b[0m                                  Traceback (most recent call last)",
      "\u001b[0;32m<ipython-input-25-4ed327c13a9c>\u001b[0m in \u001b[0;36m<module>\u001b[0;34m\u001b[0m\n\u001b[0;32m----> 1\u001b[0;31m \u001b[0;34m\"{a},{b}\"\u001b[0m\u001b[0;34m.\u001b[0m\u001b[0mformat\u001b[0m\u001b[0;34m(\u001b[0m\u001b[0ma\u001b[0m\u001b[0;34m=\u001b[0m\u001b[0;36m1\u001b[0m\u001b[0;34m)\u001b[0m\u001b[0;34m\u001b[0m\u001b[0;34m\u001b[0m\u001b[0m\n\u001b[0m",
      "\u001b[0;31mKeyError\u001b[0m: 'b'"
     ]
    }
   ],
   "source": [
    "\"{a},{b}\".format(a=1)"
   ]
  }
 ],
 "metadata": {
  "kernelspec": {
   "display_name": "Python 3",
   "language": "python",
   "name": "python3"
  },
  "language_info": {
   "codemirror_mode": {
    "name": "ipython",
    "version": 3
   },
   "file_extension": ".py",
   "mimetype": "text/x-python",
   "name": "python",
   "nbconvert_exporter": "python",
   "pygments_lexer": "ipython3",
   "version": "3.8.5"
  }
 },
 "nbformat": 4,
 "nbformat_minor": 5
}
